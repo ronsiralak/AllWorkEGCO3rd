{
 "cells": [
  {
   "cell_type": "code",
   "execution_count": 1,
   "id": "resistant-result",
   "metadata": {},
   "outputs": [],
   "source": [
    "import numpy as np\n",
    "import matplotlib.pyplot as plt"
   ]
  },
  {
   "cell_type": "code",
   "execution_count": 5,
   "id": "played-angle",
   "metadata": {},
   "outputs": [],
   "source": [
    "N = 100\n",
    "X = np.random.rand(N)\n",
    "Y = 2*X - 1 +np.random.normal(0,0.2,100)"
   ]
  },
  {
   "cell_type": "code",
   "execution_count": 6,
   "id": "brilliant-catalyst",
   "metadata": {},
   "outputs": [
    {
     "data": {
      "text/plain": [
       "<matplotlib.collections.PathCollection at 0x2197fe9d6d0>"
      ]
     },
     "execution_count": 6,
     "metadata": {},
     "output_type": "execute_result"
    },
    {
     "data": {
      "image/png": "[encoded data removed]",
      "text/plain": [
       "<Figure size 432x288 with 1 Axes>"
      ]
     },
     "metadata": {
      "needs_background": "light"
     },
     "output_type": "display_data"
    }
   ],
   "source": [
    "plt.scatter(X,Y)"
   ]
  },
  {
   "cell_type": "code",
   "execution_count": 7,
   "id": "combined-carnival",
   "metadata": {},
   "outputs": [],
   "source": [
    "xbar = np.mean(X)\n",
    "ybar = np.mean(Y)"
   ]
  },
  {
   "cell_type": "code",
   "execution_count": 8,
   "id": "chicken-adobe",
   "metadata": {},
   "outputs": [],
   "source": [
    "theta1 = np.sum((X-xbar)*(Y-ybar))/np.sum(np.power(X-xbar,2))\n",
    "theta0 = ybar - theta1*xbar"
   ]
  },
  {
   "cell_type": "code",
   "execution_count": 9,
   "id": "limiting-significance",
   "metadata": {},
   "outputs": [
    {
     "data": {
      "text/plain": [
       "(-1.0881848487993613, 2.087531362278678)"
      ]
     },
     "execution_count": 9,
     "metadata": {},
     "output_type": "execute_result"
    }
   ],
   "source": [
    "theta0,theta1"
   ]
  },
  {
   "cell_type": "code",
   "execution_count": 10,
   "id": "following-salvation",
   "metadata": {},
   "outputs": [
    {
     "name": "stdout",
     "output_type": "stream",
     "text": [
      "INFO:tensorflow:Enabling eager execution\n",
      "INFO:tensorflow:Enabling v2 tensorshape\n",
      "INFO:tensorflow:Enabling resource variables\n",
      "INFO:tensorflow:Enabling tensor equality\n",
      "INFO:tensorflow:Enabling control flow v2\n"
     ]
    }
   ],
   "source": [
    "import tensorflow as tf"
   ]
  },
  {
   "cell_type": "code",
   "execution_count": 12,
   "id": "danish-intermediate",
   "metadata": {},
   "outputs": [
    {
     "data": {
      "text/plain": [
       "<tf.Tensor: shape=(), dtype=float32, numpy=1.0>"
      ]
     },
     "execution_count": 12,
     "metadata": {},
     "output_type": "execute_result"
    }
   ],
   "source": [
    "x = tf.constant(1.0)\n",
    "x"
   ]
  },
  {
   "cell_type": "code",
   "execution_count": 16,
   "id": "floating-burton",
   "metadata": {},
   "outputs": [],
   "source": [
    "w = tf.Variable(tf.random.normal((3,2)))\n",
    "b = tf.Variable(tf.ones(2))\n",
    "x = [[1.,2.,3.]]\n",
    "\n",
    "with tf.GradientTape() as tape:\n",
    "    y = x@w + b\n",
    "    loss = tf.reduce_mean(y**2)\n",
    "\n",
    "dl_dw, dl_db = tape.gradient(loss,[w,b])"
   ]
  },
  {
   "cell_type": "code",
   "execution_count": 17,
   "id": "textile-situation",
   "metadata": {},
   "outputs": [
    {
     "data": {
      "text/plain": [
       "<tf.Tensor: shape=(3, 2), dtype=float32, numpy=\n",
       "array([[ 1.1995263, -1.1221614],\n",
       "       [ 2.3990526, -2.2443228],\n",
       "       [ 3.598579 , -3.3664842]], dtype=float32)>"
      ]
     },
     "execution_count": 17,
     "metadata": {},
     "output_type": "execute_result"
    }
   ],
   "source": [
    "dl_dw"
   ]
  },
  {
   "cell_type": "code",
   "execution_count": 18,
   "id": "brilliant-parking",
   "metadata": {},
   "outputs": [
    {
     "data": {
      "text/plain": [
       "<tf.Tensor: shape=(2,), dtype=float32, numpy=array([ 1.1995263, -1.1221614], dtype=float32)>"
      ]
     },
     "execution_count": 18,
     "metadata": {},
     "output_type": "execute_result"
    }
   ],
   "source": [
    "dl_db"
   ]
  },
  {
   "cell_type": "code",
   "execution_count": 19,
   "id": "cordless-borough",
   "metadata": {},
   "outputs": [
    {
     "data": {
      "text/plain": [
       "[<tf.Tensor: shape=(), dtype=float32, numpy=2.0>, None, None, None]"
      ]
     },
     "execution_count": 19,
     "metadata": {},
     "output_type": "execute_result"
    }
   ],
   "source": [
    "x0 = tf.Variable(1.0)\n",
    "x1 = tf.Variable(2.0, trainable = False)\n",
    "x2 = tf.Variable(3.0)+1.0\n",
    "x3 = tf.Variable(4.0)\n",
    "with tf.GradientTape() as tape:\n",
    "    y = x0**2 + x1**2 + x2**2\n",
    "\n",
    "grad = tape.gradient(y,[x0,x1,x2,x3])\n",
    "grad"
   ]
  },
  {
   "cell_type": "code",
   "execution_count": 24,
   "id": "secret-reynolds",
   "metadata": {},
   "outputs": [],
   "source": [
    "class MyModel(tf.Module):\n",
    "    def __init__(self,**kwargs):\n",
    "        super().__init__(**kwargs)\n",
    "        self.theta0 = tf.Variable(1.0)\n",
    "        self.theta1 = tf.Variable(2.0)\n",
    "        \n",
    "    def __call__(self,x):\n",
    "        return self.theta1 * x + self.theta0"
   ]
  },
  {
   "cell_type": "code",
   "execution_count": 25,
   "id": "dying-fifty",
   "metadata": {},
   "outputs": [],
   "source": [
    "def loss(target,predicted):\n",
    "    return tf.reduce_mean(tf.square(target - predicted))"
   ]
  },
  {
   "cell_type": "code",
   "execution_count": 33,
   "id": "stone-parliament",
   "metadata": {},
   "outputs": [],
   "source": [
    "def train(model,x,y,learning_rate):\n",
    "    with tf.GradientTape() as tape:\n",
    "        current_loss = loss(y,model(x))\n",
    "        \n",
    "    d_theta0, d_theta1 = tape.gradient(current_loss,[model.theta0,model.theta1])\n",
    "    model.theta0.assign_sub(learning_rate * d_theta0)\n",
    "    model.theta1.assign_sub(learning_rate * d_theta1)"
   ]
  },
  {
   "cell_type": "code",
   "execution_count": 38,
   "id": "level-chart",
   "metadata": {},
   "outputs": [],
   "source": [
    "def training_loop(model,x,y,epoohs,learning_rate = 0.1):\n",
    "    for epoch in range(epoohs):\n",
    "        train(model,x,y,learning_rate)"
   ]
  },
  {
   "cell_type": "code",
   "execution_count": 39,
   "id": "iraqi-columbia",
   "metadata": {},
   "outputs": [],
   "source": [
    "model = MyModel()\n",
    "training_loop(model,x,y,1000,0.01)"
   ]
  },
  {
   "cell_type": "code",
   "execution_count": 40,
   "id": "quarterly-specification",
   "metadata": {},
   "outputs": [
    {
     "data": {
      "text/plain": [
       "(<tf.Variable 'Variable:0' shape=() dtype=float32, numpy=19.423738>,\n",
       " <tf.Variable 'Variable:0' shape=() dtype=float32, numpy=0.6934004>)"
      ]
     },
     "execution_count": 40,
     "metadata": {},
     "output_type": "execute_result"
    }
   ],
   "source": [
    "model.theta0,model.theta1"
   ]
  },
  {
   "cell_type": "code",
   "execution_count": 23,
   "id": "three-success",
   "metadata": {},
   "outputs": [
    {
     "data": {
      "text/plain": [
       "<tf.Tensor: shape=(), dtype=float32, numpy=7.0>"
      ]
     },
     "execution_count": 23,
     "metadata": {},
     "output_type": "execute_result"
    }
   ],
   "source": [
    "model(3) # 3*2 +1 = 7"
   ]
  },
  {
   "cell_type": "code",
   "execution_count": null,
   "id": "second-smoke",
   "metadata": {},
   "outputs": [],
   "source": []
  }
 ],
 "metadata": {
  "kernelspec": {
   "display_name": "Python 3",
   "language": "python",
   "name": "python3"
  },
  "language_info": {
   "codemirror_mode": {
    "name": "ipython",
    "version": 3
   },
   "file_extension": ".py",
   "mimetype": "text/x-python",
   "name": "python",
   "nbconvert_exporter": "python",
   "pygments_lexer": "ipython3",
   "version": "3.9.7"
  }
 },
 "nbformat": 4,
 "nbformat_minor": 5
}
