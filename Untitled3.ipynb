{
 "cells": [
  {
   "cell_type": "code",
   "execution_count": 1,
   "metadata": {
    "id": "PMaKR067GWU9"
   },
   "outputs": [],
   "source": [
    "import tensorflow as tf\n",
    "import numpy as np\n",
    "import matplotlib.pyplot as plt"
   ]
  },
  {
   "cell_type": "code",
   "execution_count": 2,
   "metadata": {
    "id": "wXLKZg7_HSy0"
   },
   "outputs": [],
   "source": [
    "N = 100\n",
    "X = np.random.rand(N)\n",
    "y = 2*X - 1 + np.random.normal(0, 0.15, N)\n",
    "Y = []\n",
    "\n",
    "for i in y:\n",
    "  if i< 0:\n",
    "    Y.append(0)\n",
    "  else:\n",
    "    Y.append(1)\n",
    "Y = np.array(Y)"
   ]
  },
  {
   "cell_type": "code",
   "execution_count": 3,
   "metadata": {
    "colab": {
     "base_uri": "https://localhost:8080/",
     "height": 282
    },
    "id": "GAX2VU_vHS12",
    "outputId": "c7885a4a-a637-4289-db7b-e5bea1c8df82"
   },
   "outputs": [
    {
     "data": {
      "text/plain": [
       "<matplotlib.collections.PathCollection at 0x1ab9ce9aa60>"
      ]
     },
     "execution_count": 3,
     "metadata": {},
     "output_type": "execute_result"
    },
    {
     "data": {
      "image/png": "[encoded data removed]",
      "text/plain": [
       "<Figure size 432x288 with 1 Axes>"
      ]
     },
     "metadata": {
      "needs_background": "light"
     },
     "output_type": "display_data"
    }
   ],
   "source": [
    "plt.scatter(X, y)"
   ]
  },
  {
   "cell_type": "code",
   "execution_count": 4,
   "metadata": {
    "id": "xMWiyhCJGZG-"
   },
   "outputs": [],
   "source": [
    "class MyModel(tf.Module):\n",
    "  def __init__(self, **kwargs):\n",
    "    super().__init__(**kwargs)\n",
    "    self.theta0 = tf.Variable(np.random.uniform())\n",
    "    self.theta1 = tf.Variable(np.random.uniform())\n",
    "\n",
    "  def __call__(self, x):\n",
    "    return tf.math.sigmoid(self.theta1 * x + self.theta0)\n"
   ]
  },
  {
   "cell_type": "code",
   "execution_count": 11,
   "metadata": {
    "id": "bm-FSidAHDlr"
   },
   "outputs": [],
   "source": [
    "def L(y_true,y_predicted):\n",
    "  return tf.math.reduce_sum(y_true * tf.math.log(y_predicted)  + (1 - y_true) *  tf.math.log(1-y_predicted))"
   ]
  },
  {
   "cell_type": "code",
   "execution_count": 8,
   "metadata": {
    "id": "utAYx1dyI-ZJ"
   },
   "outputs": [],
   "source": [
    "def train(model, x, y, learning_rate = 0.1):\n",
    "  with tf.GradientTape() as tape:\n",
    "    current_likelihood = L(y, model(x))\n",
    "  \n",
    "  d_theta0, d_theta1 = tape.gradient(current_likelihood, [model.theta0, model.theta1])\n",
    "\n",
    "  model.theta0.assign_add(learning_rate * d_theta0)\n",
    "  model.theta1.assign_add(learning_rate * d_theta1)"
   ]
  },
  {
   "cell_type": "code",
   "execution_count": 7,
   "metadata": {
    "id": "cT0pCotgI-cE"
   },
   "outputs": [],
   "source": [
    "def training_loop(model, x, y, epochs, alpha):\n",
    "  for epoch in range(1, epochs+1):\n",
    "    train(model, x, y, learning_rate = alpha)"
   ]
  },
  {
   "cell_type": "code",
   "execution_count": 12,
   "metadata": {
    "id": "Jn30LANzI-fM"
   },
   "outputs": [],
   "source": [
    "model = MyModel()\n",
    "training_loop(model, X ,  Y,2 ,0.3)"
   ]
  },
  {
   "cell_type": "code",
   "execution_count": 16,
   "metadata": {},
   "outputs": [
    {
     "data": {
      "text/plain": [
       "array([-2.5       , -2.23684211, -1.97368421, -1.71052632, -1.44736842,\n",
       "       -1.18421053, -0.92105263, -0.65789474, -0.39473684, -0.13157895,\n",
       "        0.13157895,  0.39473684,  0.65789474,  0.92105263,  1.18421053,\n",
       "        1.44736842,  1.71052632,  1.97368421,  2.23684211,  2.5       ])"
      ]
     },
     "execution_count": 16,
     "metadata": {},
     "output_type": "execute_result"
    }
   ],
   "source": [
    "test_x = np.linspace(-2.5,2.5,20)\n",
    "test_x"
   ]
  },
  {
   "cell_type": "code",
   "execution_count": 17,
   "metadata": {
    "id": "_wj0Es4wI-iG"
   },
   "outputs": [
    {
     "data": {
      "text/plain": [
       "<tf.Tensor: shape=(20,), dtype=float32, numpy=\n",
       "array([2.8666966e-10, 8.1256619e-09, 2.3032283e-07, 6.5285089e-06,\n",
       "       1.8501282e-04, 5.2178800e-03, 1.2943372e-01, 8.0821860e-01,\n",
       "       9.9169803e-01, 9.9970472e-01, 9.9998963e-01, 9.9999964e-01,\n",
       "       1.0000000e+00, 1.0000000e+00, 1.0000000e+00, 1.0000000e+00,\n",
       "       1.0000000e+00, 1.0000000e+00, 1.0000000e+00, 1.0000000e+00],\n",
       "      dtype=float32)>"
      ]
     },
     "execution_count": 17,
     "metadata": {},
     "output_type": "execute_result"
    }
   ],
   "source": [
    "model(test_x)"
   ]
  },
  {
   "cell_type": "code",
   "execution_count": null,
   "metadata": {},
   "outputs": [],
   "source": []
  }
 ],
 "metadata": {
  "colab": {
   "name": "Untitled3.ipynb",
   "provenance": []
  },
  "kernelspec": {
   "display_name": "Python 3",
   "language": "python",
   "name": "python3"
  },
  "language_info": {
   "codemirror_mode": {
    "name": "ipython",
    "version": 3
   },
   "file_extension": ".py",
   "mimetype": "text/x-python",
   "name": "python",
   "nbconvert_exporter": "python",
   "pygments_lexer": "ipython3",
   "version": "3.9.7"
  }
 },
 "nbformat": 4,
 "nbformat_minor": 1
}
